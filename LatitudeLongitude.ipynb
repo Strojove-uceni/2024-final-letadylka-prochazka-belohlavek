{
  "nbformat": 4,
  "nbformat_minor": 0,
  "metadata": {
    "colab": {
      "provenance": [],
      "authorship_tag": "ABX9TyOJIBLezWHq43bYYWvJXq+Q",
      "include_colab_link": true
    },
    "kernelspec": {
      "name": "python3",
      "display_name": "Python 3"
    },
    "language_info": {
      "name": "python"
    }
  },
  "cells": [
    {
      "cell_type": "markdown",
      "metadata": {
        "id": "view-in-github",
        "colab_type": "text"
      },
      "source": [
        "<a href=\"https://colab.research.google.com/github/Strojove-uceni/2024-final-letadylka-prochazka-belohlavek/blob/main/LatitudeLongitude.ipynb\" target=\"_parent\"><img src=\"https://colab.research.google.com/assets/colab-badge.svg\" alt=\"Open In Colab\"/></a>"
      ]
    },
    {
      "cell_type": "code",
      "execution_count": null,
      "metadata": {
        "colab": {
          "base_uri": "https://localhost:8080/"
        },
        "id": "d6FVIikzCC-1",
        "outputId": "cbb1f600-d45d-4395-85a0-929ba99f9cf5"
      },
      "outputs": [
        {
          "output_type": "stream",
          "name": "stdout",
          "text": [
            "Requirement already satisfied: networkx in /usr/local/lib/python3.10/dist-packages (3.4.1)\n"
          ]
        }
      ],
      "source": [
        "!pip install networkx"
      ]
    },
    {
      "cell_type": "code",
      "source": [
        "import re\n",
        "import math\n",
        "import numpy as np\n",
        "import networkx as nx\n",
        "import matplotlib.pyplot as plt"
      ],
      "metadata": {
        "id": "4mzR80blDHkG"
      },
      "execution_count": 10,
      "outputs": []
    },
    {
      "cell_type": "code",
      "source": [
        "from google.colab import drive\n",
        "drive.mount('/content/drive')"
      ],
      "metadata": {
        "colab": {
          "base_uri": "https://localhost:8080/"
        },
        "id": "gJfWWz8jExVB",
        "outputId": "600ace36-91b0-4634-c6dd-136cac66727e"
      },
      "execution_count": 8,
      "outputs": [
        {
          "output_type": "stream",
          "name": "stdout",
          "text": [
            "Mounted at /content/drive\n"
          ]
        }
      ]
    },
    {
      "cell_type": "code",
      "source": [
        "char_points = '/content/drive/My Drive/CHARACTERISTIC_POINTS.txt'\n",
        "\n",
        "coordinates_text = []\n",
        "k = 0\n",
        "amount_to_read = 100\n",
        "coordinate_pattern = r'\\d{6}[NS]\\d{7}[EW]'\n",
        "with open(char_points, 'r') as f:\n",
        "    for line in f:\n",
        "      matches = re.findall(coordinate_pattern, line)\n",
        "      if matches != []:\n",
        "        coordinates_text.append(matches[0])\n",
        "        k += 1\n",
        "      if k >= amount_to_read:\n",
        "        break\n",
        "\n",
        "number_of_points = len(coordinates_text)\n",
        "print(number_of_points)"
      ],
      "metadata": {
        "colab": {
          "base_uri": "https://localhost:8080/"
        },
        "id": "HWHXajliD_sx",
        "outputId": "ac38b4ea-ceb4-4a92-c5ee-34845edcbab4"
      },
      "execution_count": 12,
      "outputs": [
        {
          "output_type": "stream",
          "name": "stdout",
          "text": [
            "100\n"
          ]
        }
      ]
    },
    {
      "cell_type": "code",
      "source": [
        "print(coordinates_text)"
      ],
      "metadata": {
        "colab": {
          "base_uri": "https://localhost:8080/"
        },
        "id": "PidV0C_EFGKR",
        "outputId": "09aecf52-305a-40b1-baae-92da5a186ab5"
      },
      "execution_count": 13,
      "outputs": [
        {
          "output_type": "stream",
          "name": "stdout",
          "text": [
            "['491004N0163011E', '490805N0165303E', '501524N0124306E', '500855N0130649E', '493607N0175732E', '494703N0181512E', '500227N0140127E', '501144N0140349E', '501039N0142846E', '500024N0142729E', '501224N0142812E', '501141N0143208E', '501025N0144213E', '490647N0173003E', '500812N0143903E', '501716N0143233E', '501244N0143548E', '501521N0140952E', '500753N0145319E', '500954N0144146E', '501402N0143849E', '501040N0143725E', '500936N0144332E', '501220N0142736E', '501432N0143043E', '501804N0142735E', '502601N0140816E', '501717N0150722E', '500511N0125711E', '490323N0164911E', '490228N0165935E', '490147N0170706E', '490825N0162521E', '490952N0162236E', '490735N0155414E', '491915N0160435E', '492306N0155244E', '490927N0155023E', '491033N0162118E', '490511N0155916E', '495721N0153258E', '494312N0154725E', '493652N0153949E', '494452N0152008E', '495832N0153118E', '494209N0154609E', '493854N0153358E', '500110N0153230E', '500026N0155609E', '500059N0153831E', '495730N0153816E', '495658N0155458E', '495646N0160109E', '500015N0160126E', '500106N0153445E', '500617N0153507E', '500536N0155649E', '500521N0160434E', '500010N0160409E', '495900N0163611E', '500551N0154911E', '500633N0152534E', '500118N0152742E', '494441N0141607E', '495433N0162355E', '500858N0153329E', '495521N0153549E', '500255N0152504E', '500004N0152907E', '495433N0162355E', '490138N0133732E', '485406N0143838E', '493416N0135557E', '492530N0163303E', '492935N0165235E', '495335N0162952E', '492745N0140412E', '484926N0141507E', '493100N0132500E', '490044N0154522E', '495145N0150359E', '502409N0152049E', '491151N0145126E', '501639N0131406E', '491336N0134556E', '503343N0143454E', '500204N0152609E', '493836N0172443E', '490114N0142433E', '492319N0153225E', '493044N0160640E', '494431N0172635E', '492959N0142845E', '500740N0160711E', '485452N0135950E', '492249N0155804E', '495214N0161847E', '493327N0170825E', '502808N0133359E', '502517N0133041E']\n"
          ]
        }
      ]
    },
    {
      "cell_type": "code",
      "source": [
        "import math\n",
        "import re\n",
        "\n",
        "# Constants for Earth's radius (in kilometers)\n",
        "EARTH_RADIUS = 6371  # Radius in kilometers\n",
        "\n",
        "def dms_to_decimal(dms_str):\n",
        "    # Regex pattern to extract DMS values\n",
        "    pattern = r'(\\d{2,3})(\\d{2})(\\d{2})([NSEW])'\n",
        "    match = re.match(pattern, dms_str)\n",
        "\n",
        "    if not match:\n",
        "        raise ValueError(f\"Invalid DMS format: {dms_str}\")\n",
        "\n",
        "    degrees = int(match.group(1))\n",
        "    minutes = int(match.group(2))\n",
        "    seconds = int(match.group(3))\n",
        "    direction = match.group(4)\n",
        "\n",
        "    # Convert DMS to decimal degrees\n",
        "    decimal_degrees = degrees + minutes / 60 + seconds / 3600\n",
        "\n",
        "    # Apply the direction (negative for S and W)\n",
        "    if direction in 'SW':\n",
        "        decimal_degrees = -decimal_degrees\n",
        "\n",
        "    return decimal_degrees\n",
        "\n",
        "def latlon_to_xy(coords, lat_origin=0, lon_origin=0):\n",
        "    xy_coords = []\n",
        "\n",
        "    for coord in coords:\n",
        "        lat_dms = coord[:7]  # First 7 characters for latitude\n",
        "        lon_dms = coord[7:]  # Remaining characters for longitude\n",
        "\n",
        "        lat = dms_to_decimal(lat_dms)\n",
        "        lon = dms_to_decimal(lon_dms)\n",
        "\n",
        "        # Convert latitude and longitude to radians\n",
        "        lat_rad = math.radians(lat)\n",
        "        lon_rad = math.radians(lon)\n",
        "        lat_origin_rad = math.radians(lat_origin)\n",
        "        lon_origin_rad = math.radians(lon_origin)\n",
        "\n",
        "        # Apply equirectangular projection\n",
        "        x = EARTH_RADIUS * (lon_rad - lon_origin_rad) * math.cos(lat_origin_rad)\n",
        "        y = EARTH_RADIUS * (lat_rad - lat_origin_rad)\n",
        "\n",
        "        xy_coords.append((x, y))\n",
        "\n",
        "    return xy_coords\n",
        "\n",
        "\n",
        "def plot_coordinates(xy_coords, labels):\n",
        "    plt.figure(figsize=(8, 6))\n",
        "\n",
        "    # Extract x and y coordinates\n",
        "    x_vals = [coord[0] for coord in xy_coords]\n",
        "    y_vals = [coord[1] for coord in xy_coords]\n",
        "\n",
        "    # Create the scatter plot\n",
        "    plt.scatter(x_vals, y_vals, color='blue', marker='o')\n",
        "\n",
        "    # Annotate each point with its label\n",
        "    for i, label in enumerate(labels):\n",
        "        plt.text(x_vals[i], y_vals[i], label, fontsize=12, ha='right')\n",
        "\n",
        "    # Add labels and grid\n",
        "    plt.xlabel(\"X (km)\")\n",
        "    plt.ylabel(\"Y (km)\")\n",
        "    plt.title(\"2D Grid of Latitude and Longitude Points\")\n",
        "    plt.grid(True)\n",
        "    plt.axis('equal')  # Ensure x and y axis have equal scaling\n",
        "\n",
        "    # Show plot\n",
        "    plt.show()\n",
        "\n",
        "# Converting the coordinates to 2D grid\n",
        "xy_points = latlon_to_xy(coordinates_text)\n",
        "\n",
        "labels = [\"Location 1\", \"Location 2\"]\n",
        "\n",
        "# Plot the points\n",
        "plot_coordinates(xy_points, labels)\n"
      ],
      "metadata": {
        "colab": {
          "base_uri": "https://localhost:8080/",
          "height": 564
        },
        "id": "fXDASbhuF3Te",
        "outputId": "f6a19670-447b-478e-bea5-bdc6d0880e3e"
      },
      "execution_count": 15,
      "outputs": [
        {
          "output_type": "display_data",
          "data": {
            "text/plain": [
              "<Figure size 800x600 with 1 Axes>"
            ],
            "image/png": "[encoded data removed]"
          },
          "metadata": {}
        }
      ]
    }
  ]
}