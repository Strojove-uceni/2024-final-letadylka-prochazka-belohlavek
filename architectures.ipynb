{
  "nbformat": 4,
  "nbformat_minor": 0,
  "metadata": {
    "colab": {
      "provenance": [],
      "authorship_tag": "ABX9TyNnzgN9yRysKTgjV2SonFXT",
      "include_colab_link": true
    },
    "kernelspec": {
      "name": "python3",
      "display_name": "Python 3"
    },
    "language_info": {
      "name": "python"
    }
  },
  "cells": [
    {
      "cell_type": "markdown",
      "metadata": {
        "id": "view-in-github",
        "colab_type": "text"
      },
      "source": [
        "<a href=\"https://colab.research.google.com/github/Strojove-uceni/2024-final-letadylka-prochazka-belohlavek/blob/main/architectures.ipynb\" target=\"_parent\"><img src=\"https://colab.research.google.com/assets/colab-badge.svg\" alt=\"Open In Colab\"/></a>"
      ]
    },
    {
      "cell_type": "markdown",
      "source": [
        "# Architectures\n",
        "This file contains the description of the main architectures used within this project. Below we provide a detailed description of them.\n",
        "\n",
        "First we describe models that were used for Q-values predictions:\n",
        "\n",
        "    - DGN\n",
        "    - DQN\n",
        "    - Comm_net,\n",
        "    \n",
        "then we go over the methods that were used to aggregate hidden graph representations:\n",
        "    - SUM\n",
        "    - GCN\n",
        "and lastly we describe the NetMon class that was originally provided by the authors.\n",
        "\n",
        "\n"
      ],
      "metadata": {
        "id": "DoKHKB4X6eUI"
      }
    },
    {
      "cell_type": "code",
      "source": [
        "ul"
      ],
      "metadata": {
        "id": "gnJd_LjT7e_S"
      },
      "execution_count": null,
      "outputs": []
    },
    {
      "cell_type": "markdown",
      "source": [
        "## Q-values prediction\n",
        "something about..\n"
      ],
      "metadata": {
        "id": "uAEZJkWq7eS-"
      }
    },
    {
      "cell_type": "markdown",
      "source": [
        "### DGN\n",
        "what is it, how it works, provide that code"
      ],
      "metadata": {
        "id": "F6p203xn7mIg"
      }
    },
    {
      "cell_type": "code",
      "execution_count": null,
      "metadata": {
        "id": "A8yXnKot6dTF"
      },
      "outputs": [],
      "source": []
    },
    {
      "cell_type": "markdown",
      "source": [
        "### DQN\n",
        "\n",
        "same"
      ],
      "metadata": {
        "id": "xbzlC1hA7sGe"
      }
    },
    {
      "cell_type": "code",
      "source": [],
      "metadata": {
        "id": "Sbs8yo5R72kC"
      },
      "execution_count": null,
      "outputs": []
    },
    {
      "cell_type": "markdown",
      "source": [
        "### Comm_net\n",
        "same"
      ],
      "metadata": {
        "id": "5AvA-UXx73H7"
      }
    },
    {
      "cell_type": "code",
      "source": [],
      "metadata": {
        "id": "uBT6HNhl78SS"
      },
      "execution_count": null,
      "outputs": []
    },
    {
      "cell_type": "markdown",
      "source": [
        "## State aggregation\n",
        "\n",
        "...."
      ],
      "metadata": {
        "id": "AuP5aqqV786_"
      }
    },
    {
      "cell_type": "markdown",
      "source": [
        "### SUM\n"
      ],
      "metadata": {
        "id": "FUlFeCs-8BC2"
      }
    },
    {
      "cell_type": "code",
      "source": [],
      "metadata": {
        "id": "NgTugJxZ8EFG"
      },
      "execution_count": null,
      "outputs": []
    },
    {
      "cell_type": "markdown",
      "source": [
        "### GCN\n",
        "..."
      ],
      "metadata": {
        "id": "b8iKtdFe8EjR"
      }
    },
    {
      "cell_type": "code",
      "source": [],
      "metadata": {
        "id": "0H2R02_E8KJx"
      },
      "execution_count": null,
      "outputs": []
    },
    {
      "cell_type": "markdown",
      "source": [
        "## NetMon"
      ],
      "metadata": {
        "id": "YeJELh3k8Hll"
      }
    },
    {
      "cell_type": "code",
      "source": [],
      "metadata": {
        "id": "D9qyiyhF8VP7"
      },
      "execution_count": null,
      "outputs": []
    }
  ]
}