{
  "cells": [
    {
      "cell_type": "markdown",
      "metadata": {
        "colab_type": "text",
        "id": "view-in-github"
      },
      "source": [
        "<a href=\"https://colab.research.google.com/github/Strojove-uceni/2024-final-letadylka-prochazka-belohlavek/blob/main/Initial.ipynb\" target=\"_parent\"><img src=\"https://colab.research.google.com/assets/colab-badge.svg\" alt=\"Open In Colab\"/></a>"
      ]
    },
    {
      "cell_type": "markdown",
      "metadata": {
        "id": "0d5EdjBNcppa"
      },
      "source": [
        "## Some overview\n",
        "- Growing Neural Gas\n",
        "- Graph Neural Networks\n",
        "\n",
        "### Curve + shortest path\n",
        "https://github.com/Octavian-ai/shortest-path - kinda old ([medium](https://medium.com/octavian-ai/finding-shortest-paths-with-graph-networks-807c5bbfc9c8))\n",
        "\n",
        "\n",
        "https://www.chaitjo.com/post/deep-learning-for-routing-problems/ - this seems promising\n"
        "https://ceur-ws.org/Vol-3379/BMDA_2023_paper_7556.pdf"
        "https://github.com/OpenJ92/Bezier-Networks"
        "https://medium.com/@krinabhikadiya/kan-kolmogorov-arnold-network-d87e4b4d1d77"
      ]
    },
    {
      "cell_type": "code",
      "execution_count": null,
      "metadata": {
        "id": "kbb1qmMzasyj"
      },
      "outputs": [],
      "source": [
        "## Libraries\n",
        "# import numpy\n",
        "# import math\n",
        "# import torch\n",
        "\n",
        "\n"
      ]
    },
    {
      "cell_type": "code",
      "execution_count": null,
      "metadata": {
        "id": "IZ9MO9znawwy"
      },
      "outputs": [],
      "source": [
        "## Code\n",
        "aaaa\n",
        "bbbb\n",
        "ccccc"
      ]
    }
  ],
  "metadata": {
    "colab": {
      "include_colab_link": true,
      "provenance": []
    },
    "kernelspec": {
      "display_name": "Python 3",
      "name": "python3"
    },
    "language_info": {
      "name": "python"
    }
  },
  "nbformat": 4,
  "nbformat_minor": 0
}
