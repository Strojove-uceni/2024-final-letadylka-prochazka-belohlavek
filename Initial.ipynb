{
  "cells": [
    {
      "cell_type": "markdown",
      "metadata": {
        "id": "view-in-github",
        "colab_type": "text"
      },
      "source": [
        "<a href=\"https://colab.research.google.com/github/Strojove-uceni/2024-final-letadylka-prochazka-belohlavek/blob/main/Initial.ipynb\" target=\"_parent\"><img src=\"https://colab.research.google.com/assets/colab-badge.svg\" alt=\"Open In Colab\"/></a>"
      ]
    },
    {
      "cell_type": "markdown",
      "metadata": {
        "id": "0d5EdjBNcppa"
      },
      "source": [
        "## Some overview\n",
        "- Growing Neural Gas\n",
        "- Graph Neural Networks\n",
        "\n",
        "### Curve + shortest path\n",
        "https://github.com/Octavian-ai/shortest-path - kinda old ([medium](https://medium.com/octavian-ai/finding-shortest-paths-with-graph-networks-807c5bbfc9c8))\n",
        "\n",
        "\n",
        "\n",
        "<!--\n",
        "Approach Outline:\n",
        "-  Initial Path: The starting point for optimization is a straight-line path represented by a Bézier curve with four control points.B(t) = (1-t)^3P_0 + 3(1-t)^2tP_1 + 3(1-t)t^2P_2 + t^3P_3 t in [0;1]P_0 ... starting point and P_3 ... end point\n",
        "\n",
        "- Dynamic Updates: The neural network adjusts the inner control points P_1 and P_2 of the Bézier curve to create an efficient trajectory.\n",
        "\n",
        "- Environment Feedback: Weather conditions are sampled along the curve division of interval [0;1]and the flight speed is dynamically adjusted based on environmental data.\n",
        "\n",
        "- Loss Function: The objective is to minimize total flight time calculated as the sum of the time it takes to traverse linear segments of the Bézier curvewhere time = sum distance_i / speed_i (speed is affected by weather)distance is simply |B(i+1) - B(i)| and speed_i = ||v_i||Full length of the Bezier curve can be calculated by applying Simpson's rule. The NN learn to adjust P_1 and P_2: Reinfocement learning -->"
      ]
    },
    {
      "cell_type": "markdown",
      "source": [
        "## TO READ\n",
        "- What are MLPs\n",
        "- Graphs\n",
        "- Graph Neural networks\n",
        "- Reinforcement learning\n",
        "- Multi-agent reinforcement learning\n",
        "- Imitation learning\n",
        "- Meta learning\n",
        "\n",
        "## Useful articles to read through\n",
        "They may not necessarily exactly mirror our work, but are insighful. Additionally, the refer to github, where individual implementaions can be found\n",
        "- [MALR on coordination graphs](https://medium.com/@jamgochian95/multi-agent-reinforcement-learning-with-coordination-graphs-428dddb99907)\n",
        "- [Former based approach for shortest path](https://medium.com/octavian-ai/finding-shortest-paths-with-graph-networks-807c5bbfc9c8)\n",
        "- [GNN for shortest path](https://medium.com/@bnn_upc/computing-the-shortest-path-with-graph-neural-networks-gnn-a-hands-on-introduction-to-ignnition-bea531b3b5b2)\n",
        "- [Interesting non-linear approach](https://www.sciencedirect.com/science/article/pii/S0096300306016304)\n",
        "- [Approximation of the shortest path](https://arxiv.org/pdf/2002.05257)\n",
        "- [Meta Learning intro](https://medium.com/huggingface/from-zero-to-research-an-introduction-to-meta-learning-8e16e677f78a)\n",
        "- [Multi agent meta learning](https://signalprocessingsociety.org/publications-resources/ieee-open-journal-signal-processing/dif-maml-decentralized-multi-agent-meta)\n",
        "- [Deep path](https://sites.cs.ucsb.edu/~william/papers/DeepPath.pdf)\n",
        "\n",
        "## Some libraries to look into/try out\n",
        "Again, we may not use them in the end, but are good for starters.\n",
        "- https://github.com/jw3il/graph-marl?tab=readme-ov-file\n",
        "- https://github.com/Octavian-ai/shortest-path\n",
        "- https://imitation.readthedocs.io/en/latest/algorithms/gail.html\n",
        "- https://github.com/marcbrittain/Autonomous-ATC"
      ],
      "metadata": {
        "id": "Szb8etpQmOTC"
      }
    },
    {
      "cell_type": "code",
      "execution_count": null,
      "metadata": {
        "id": "kbb1qmMzasyj"
      },
      "outputs": [],
      "source": []
    },
    {
      "cell_type": "code",
      "execution_count": null,
      "metadata": {
        "id": "IZ9MO9znawwy"
      },
      "outputs": [],
      "source": []
    }
  ],
  "metadata": {
    "colab": {
      "provenance": [],
      "include_colab_link": true
    },
    "kernelspec": {
      "display_name": "Python 3",
      "name": "python3"
    },
    "language_info": {
      "name": "python"
    }
  },
  "nbformat": 4,
  "nbformat_minor": 0
}