{
  "nbformat": 4,
  "nbformat_minor": 0,
  "metadata": {
    "colab": {
      "provenance": [],
      "include_colab_link": true
    },
    "kernelspec": {
      "name": "python3",
      "display_name": "Python 3"
    },
    "language_info": {
      "name": "python"
    }
  },
  "cells": [
    {
      "cell_type": "markdown",
      "metadata": {
        "id": "view-in-github",
        "colab_type": "text"
      },
      "source": [
        "<a href=\"https://colab.research.google.com/github/Strojove-uceni/2024-final-letadylka-prochazka-belohlavek/blob/main/Initial.ipynb\" target=\"_parent\"><img src=\"https://colab.research.google.com/assets/colab-badge.svg\" alt=\"Open In Colab\"/></a>"
      ]
    },
    {
      "cell_type": "markdown",
      "source": [
        "## Some overview\n",
        "- Growing Neural Gas\n",
        "- Graph Neural Networks\n",
        "\n",
        "### Curve + shortest path\n",
        "https://github.com/Octavian-ai/shortest-path - kinda old ([medium](https://medium.com/octavian-ai/finding-shortest-paths-with-graph-networks-807c5bbfc9c8))\n",
        "\n",
        "\n",
        "https://www.chaitjo.com/post/deep-learning-for-routing-problems/ - this seems promising\n"
      ],
      "metadata": {
        "id": "0d5EdjBNcppa"
      }
    },
    {
      "cell_type": "code",
      "source": [
        "## Libraries\n",
        "# import numpy\n",
        "\n",
        "\n"
      ],
      "metadata": {
        "id": "kbb1qmMzasyj"
      },
      "execution_count": null,
      "outputs": []
    },
    {
      "cell_type": "code",
      "source": [],
      "metadata": {
        "id": "IZ9MO9znawwy"
      },
      "execution_count": null,
      "outputs": []
    }
  ]
}